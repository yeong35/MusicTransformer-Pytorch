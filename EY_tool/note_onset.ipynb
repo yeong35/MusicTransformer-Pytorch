{
 "cells": [
  {
   "cell_type": "code",
   "execution_count": 50,
   "metadata": {},
   "outputs": [],
   "source": [
    "import os\n",
    "from glob import glob\n",
    "from tqdm import tqdm\n",
    "import pretty_midi\n",
    "import numpy as np\n"
   ]
  },
  {
   "cell_type": "code",
   "execution_count": 113,
   "metadata": {},
   "outputs": [],
   "source": [
    "def duration_count(midi_path):\n",
    "    midi = pretty_midi.PrettyMIDI(midi_path)\n",
    "\n",
    "    temp = []\n",
    "\n",
    "    for inst in midi.instruments:\n",
    "        temp += inst.notes\n",
    "    \n",
    "    duration = []\n",
    "\n",
    "    for note in temp:\n",
    "        duration.append((note.end - note.start)*100)\n",
    "\n",
    "    return np.array(duration)"
   ]
  },
  {
   "cell_type": "code",
   "execution_count": 114,
   "metadata": {},
   "outputs": [],
   "source": [
    "def onset_count(midi_path):\n",
    "    midi = pretty_midi.PrettyMIDI(midi_path)\n",
    "\n",
    "    temp = []\n",
    "\n",
    "    for inst in midi.instruments:\n",
    "        temp += inst.notes\n",
    "    \n",
    "    temp = sorted(temp, key = lambda x : x.start)\n",
    "\n",
    "    onset = []\n",
    "    for i in range(len(temp)-1):\n",
    "        onset.append(temp[i+1].start - temp[i].start)\n",
    "\n",
    "    return np.array(onset)"
   ]
  },
  {
   "cell_type": "markdown",
   "metadata": {},
   "source": [
    "## pop"
   ]
  },
  {
   "cell_type": "code",
   "execution_count": 115,
   "metadata": {},
   "outputs": [],
   "source": [
    "input_dir = \"/home/bang/PycharmProjects/MusicGeneration/POP909-Dataset/pop909_midi\"\n",
    "output_dir = \"\""
   ]
  },
  {
   "cell_type": "code",
   "execution_count": 116,
   "metadata": {},
   "outputs": [],
   "source": [
    "midi_files = sorted(glob(os.path.join(input_dir, \"*\")))"
   ]
  },
  {
   "cell_type": "code",
   "execution_count": 117,
   "metadata": {},
   "outputs": [
    {
     "name": "stderr",
     "output_type": "stream",
     "text": [
      "100%|██████████| 909/909 [01:08<00:00, 13.23it/s]\n"
     ]
    }
   ],
   "source": [
    "duration_list = np.array([])\n",
    "onset_list = np.array([])\n",
    "for file_path in tqdm(midi_files):\n",
    "    duration_list = np.append(duration_list, duration_count(file_path))\n",
    "    onset_list = np.append(onset_list, onset_count(file_path))"
   ]
  },
  {
   "cell_type": "code",
   "execution_count": 121,
   "metadata": {},
   "outputs": [
    {
     "data": {
      "text/plain": [
       "(array([5.64144e+05, 5.11695e+05, 1.97916e+05, 9.04990e+04, 6.25030e+04,\n",
       "        4.33830e+04, 2.27030e+04, 1.21190e+04, 8.71200e+03, 6.81600e+03,\n",
       "        4.67700e+03, 2.94100e+03, 1.68900e+03, 1.04100e+03, 6.20000e+02,\n",
       "        4.46000e+02, 3.17000e+02, 2.36000e+02, 1.78000e+02, 1.71000e+02,\n",
       "        1.05000e+02, 1.12000e+02, 8.70000e+01, 4.70000e+01, 6.50000e+01,\n",
       "        3.50000e+01, 2.90000e+01, 3.00000e+01, 2.00000e+01, 2.10000e+01,\n",
       "        1.00000e+01, 7.00000e+00, 2.00000e+00, 6.00000e+00, 6.00000e+00,\n",
       "        6.00000e+00, 4.00000e+00, 3.00000e+00, 2.00000e+00, 0.00000e+00,\n",
       "        3.00000e+00, 1.00000e+00, 3.00000e+00, 6.00000e+00, 0.00000e+00,\n",
       "        1.00000e+00, 0.00000e+00, 0.00000e+00, 5.00000e+00, 1.00000e+00,\n",
       "        1.00000e+00, 1.00000e+00, 1.00000e+00, 0.00000e+00, 1.00000e+00,\n",
       "        1.00000e+00, 0.00000e+00, 0.00000e+00, 1.00000e+00, 0.00000e+00,\n",
       "        0.00000e+00, 0.00000e+00, 1.00000e+00, 1.00000e+00, 0.00000e+00,\n",
       "        0.00000e+00, 0.00000e+00, 0.00000e+00, 0.00000e+00, 0.00000e+00,\n",
       "        0.00000e+00, 0.00000e+00, 0.00000e+00, 0.00000e+00, 0.00000e+00,\n",
       "        0.00000e+00, 0.00000e+00, 0.00000e+00, 3.00000e+00, 1.00000e+00,\n",
       "        0.00000e+00, 0.00000e+00, 0.00000e+00, 0.00000e+00, 2.00000e+00,\n",
       "        0.00000e+00, 0.00000e+00, 0.00000e+00, 0.00000e+00, 0.00000e+00,\n",
       "        0.00000e+00, 0.00000e+00, 0.00000e+00, 0.00000e+00, 0.00000e+00,\n",
       "        0.00000e+00, 0.00000e+00, 0.00000e+00, 0.00000e+00, 1.00000e+00]),\n",
       " array([7.91139583e-02, 2.95783228e+01, 5.90775317e+01, 8.85767405e+01,\n",
       "        1.18075949e+02, 1.47575158e+02, 1.77074367e+02, 2.06573576e+02,\n",
       "        2.36072785e+02, 2.65571994e+02, 2.95071203e+02, 3.24570411e+02,\n",
       "        3.54069620e+02, 3.83568829e+02, 4.13068038e+02, 4.42567247e+02,\n",
       "        4.72066456e+02, 5.01565665e+02, 5.31064873e+02, 5.60564082e+02,\n",
       "        5.90063291e+02, 6.19562500e+02, 6.49061709e+02, 6.78560918e+02,\n",
       "        7.08060127e+02, 7.37559335e+02, 7.67058544e+02, 7.96557753e+02,\n",
       "        8.26056962e+02, 8.55556171e+02, 8.85055380e+02, 9.14554589e+02,\n",
       "        9.44053797e+02, 9.73553006e+02, 1.00305222e+03, 1.03255142e+03,\n",
       "        1.06205063e+03, 1.09154984e+03, 1.12104905e+03, 1.15054826e+03,\n",
       "        1.18004747e+03, 1.20954668e+03, 1.23904589e+03, 1.26854509e+03,\n",
       "        1.29804430e+03, 1.32754351e+03, 1.35704272e+03, 1.38654193e+03,\n",
       "        1.41604114e+03, 1.44554035e+03, 1.47503956e+03, 1.50453877e+03,\n",
       "        1.53403797e+03, 1.56353718e+03, 1.59303639e+03, 1.62253560e+03,\n",
       "        1.65203481e+03, 1.68153402e+03, 1.71103323e+03, 1.74053244e+03,\n",
       "        1.77003165e+03, 1.79953085e+03, 1.82903006e+03, 1.85852927e+03,\n",
       "        1.88802848e+03, 1.91752769e+03, 1.94702690e+03, 1.97652611e+03,\n",
       "        2.00602532e+03, 2.03552453e+03, 2.06502373e+03, 2.09452294e+03,\n",
       "        2.12402215e+03, 2.15352136e+03, 2.18302057e+03, 2.21251978e+03,\n",
       "        2.24201899e+03, 2.27151820e+03, 2.30101741e+03, 2.33051661e+03,\n",
       "        2.36001582e+03, 2.38951503e+03, 2.41901424e+03, 2.44851345e+03,\n",
       "        2.47801266e+03, 2.50751187e+03, 2.53701108e+03, 2.56651028e+03,\n",
       "        2.59600949e+03, 2.62550870e+03, 2.65500791e+03, 2.68450712e+03,\n",
       "        2.71400633e+03, 2.74350554e+03, 2.77300475e+03, 2.80250396e+03,\n",
       "        2.83200316e+03, 2.86150237e+03, 2.89100158e+03, 2.92050079e+03,\n",
       "        2.95000000e+03]),\n",
       " <BarContainer object of 100 artists>)"
      ]
     },
     "execution_count": 121,
     "metadata": {},
     "output_type": "execute_result"
    },
    {
     "data": {
      "image/png": "[encoded data removed]",
      "text/plain": [
       "<Figure size 432x288 with 1 Axes>"
      ]
     },
     "metadata": {
      "needs_background": "light"
     },
     "output_type": "display_data"
    }
   ],
   "source": [
    "import matplotlib.pyplot as plt\n",
    "\n",
    "plt.title(\"duration\")\n",
    "plt.xlim(0, 500)\n",
    "plt.hist(duration_list, rwidth=0.9, bins=100)"
   ]
  },
  {
   "cell_type": "code",
   "execution_count": 123,
   "metadata": {},
   "outputs": [
    {
     "data": {
      "text/plain": [
       "(array([1.046041e+06, 4.252330e+05, 4.626000e+04, 8.506000e+03,\n",
       "        2.895000e+03, 1.034000e+03, 6.730000e+02, 5.750000e+02,\n",
       "        4.260000e+02, 2.380000e+02, 1.430000e+02, 1.250000e+02,\n",
       "        7.300000e+01, 5.500000e+01, 5.900000e+01, 5.300000e+01,\n",
       "        2.400000e+01, 2.400000e+01, 2.300000e+01, 1.300000e+01,\n",
       "        1.100000e+01, 3.000000e+00, 6.000000e+00, 6.000000e+00,\n",
       "        8.000000e+00, 3.000000e+00, 2.000000e+00, 4.000000e+00,\n",
       "        2.000000e+00, 0.000000e+00, 0.000000e+00, 1.000000e+00,\n",
       "        2.000000e+00, 0.000000e+00, 0.000000e+00, 1.000000e+00,\n",
       "        0.000000e+00, 0.000000e+00, 1.000000e+00, 1.000000e+00,\n",
       "        0.000000e+00, 1.000000e+00, 0.000000e+00, 0.000000e+00,\n",
       "        0.000000e+00, 0.000000e+00, 0.000000e+00, 0.000000e+00,\n",
       "        0.000000e+00, 0.000000e+00, 0.000000e+00, 0.000000e+00,\n",
       "        0.000000e+00, 0.000000e+00, 0.000000e+00, 0.000000e+00,\n",
       "        0.000000e+00, 0.000000e+00, 0.000000e+00, 0.000000e+00,\n",
       "        0.000000e+00, 0.000000e+00, 0.000000e+00, 1.000000e+00,\n",
       "        0.000000e+00, 0.000000e+00, 0.000000e+00, 0.000000e+00,\n",
       "        1.000000e+00, 0.000000e+00, 0.000000e+00, 0.000000e+00,\n",
       "        0.000000e+00, 0.000000e+00, 0.000000e+00, 0.000000e+00,\n",
       "        0.000000e+00, 0.000000e+00, 0.000000e+00, 0.000000e+00,\n",
       "        0.000000e+00, 1.000000e+00, 0.000000e+00, 0.000000e+00,\n",
       "        0.000000e+00, 0.000000e+00, 0.000000e+00, 0.000000e+00,\n",
       "        0.000000e+00, 0.000000e+00, 0.000000e+00, 0.000000e+00,\n",
       "        0.000000e+00, 0.000000e+00, 0.000000e+00, 0.000000e+00,\n",
       "        0.000000e+00, 0.000000e+00, 0.000000e+00, 1.000000e+00]),\n",
       " array([ 0.        ,  0.2308506 ,  0.4617012 ,  0.69255181,  0.92340241,\n",
       "         1.15425301,  1.38510361,  1.61595421,  1.84680482,  2.07765542,\n",
       "         2.30850602,  2.53935662,  2.77020723,  3.00105783,  3.23190843,\n",
       "         3.46275903,  3.69360963,  3.92446024,  4.15531084,  4.38616144,\n",
       "         4.61701204,  4.84786264,  5.07871325,  5.30956385,  5.54041445,\n",
       "         5.77126505,  6.00211565,  6.23296626,  6.46381686,  6.69466746,\n",
       "         6.92551806,  7.15636867,  7.38721927,  7.61806987,  7.84892047,\n",
       "         8.07977107,  8.31062168,  8.54147228,  8.77232288,  9.00317348,\n",
       "         9.23402408,  9.46487469,  9.69572529,  9.92657589, 10.15742649,\n",
       "        10.38827709, 10.6191277 , 10.8499783 , 11.0808289 , 11.3116795 ,\n",
       "        11.54253011, 11.77338071, 12.00423131, 12.23508191, 12.46593251,\n",
       "        12.69678312, 12.92763372, 13.15848432, 13.38933492, 13.62018552,\n",
       "        13.85103613, 14.08188673, 14.31273733, 14.54358793, 14.77443853,\n",
       "        15.00528914, 15.23613974, 15.46699034, 15.69784094, 15.92869155,\n",
       "        16.15954215, 16.39039275, 16.62124335, 16.85209395, 17.08294456,\n",
       "        17.31379516, 17.54464576, 17.77549636, 18.00634696, 18.23719757,\n",
       "        18.46804817, 18.69889877, 18.92974937, 19.16059997, 19.39145058,\n",
       "        19.62230118, 19.85315178, 20.08400238, 20.31485299, 20.54570359,\n",
       "        20.77655419, 21.00740479, 21.23825539, 21.469106  , 21.6999566 ,\n",
       "        21.9308072 , 22.1616578 , 22.3925084 , 22.62335901, 22.85420961,\n",
       "        23.08506021]),\n",
       " <BarContainer object of 100 artists>)"
      ]
     },
     "execution_count": 123,
     "metadata": {},
     "output_type": "execute_result"
    },
    {
     "data": {
      "image/png": "[encoded data removed]",
      "text/plain": [
       "<Figure size 432x288 with 1 Axes>"
      ]
     },
     "metadata": {
      "needs_background": "light"
     },
     "output_type": "display_data"
    }
   ],
   "source": [
    "import matplotlib.pyplot as plt\n",
    "\n",
    "plt.title(\"onset\")\n",
    "plt.xlim(0, 3)\n",
    "plt.hist(onset_list, rwidth=0.9, bins=100)"
   ]
  },
  {
   "cell_type": "markdown",
   "metadata": {},
   "source": [
    "## Classic"
   ]
  },
  {
   "cell_type": "code",
   "execution_count": 124,
   "metadata": {},
   "outputs": [],
   "source": [
    "input_dir = \"/home/bang/PycharmProjects/MusicGeneration/remi/MAESTRO/maestro_split40\"\n",
    "output_dir = \"\""
   ]
  },
  {
   "cell_type": "code",
   "execution_count": 125,
   "metadata": {},
   "outputs": [],
   "source": [
    "midi_files = sorted(glob(os.path.join(input_dir, \"*\")))"
   ]
  },
  {
   "cell_type": "code",
   "execution_count": 126,
   "metadata": {},
   "outputs": [
    {
     "name": "stderr",
     "output_type": "stream",
     "text": [
      "100%|██████████| 1281/1281 [00:32<00:00, 39.71it/s]\n"
     ]
    }
   ],
   "source": [
    "duration_list = np.array([])\n",
    "onset_list = np.array([])\n",
    "for file_path in tqdm(midi_files):\n",
    "    duration_list = np.append(duration_list, duration_count(file_path))\n",
    "    onset_list = np.append(onset_list, onset_count(file_path))"
   ]
  },
  {
   "cell_type": "code",
   "execution_count": 130,
   "metadata": {},
   "outputs": [
    {
     "data": {
      "text/plain": [
       "(array([4.07736e+05, 3.18450e+04, 9.88600e+03, 4.91600e+03, 2.74200e+03,\n",
       "        1.56200e+03, 8.17000e+02, 4.49000e+02, 3.04000e+02, 1.98000e+02,\n",
       "        1.23000e+02, 1.08000e+02, 5.80000e+01, 4.40000e+01, 3.50000e+01,\n",
       "        4.50000e+01, 1.60000e+01, 1.60000e+01, 2.60000e+01, 7.00000e+00,\n",
       "        8.00000e+00, 6.00000e+00, 1.10000e+01, 1.60000e+01, 6.00000e+00,\n",
       "        8.00000e+00, 1.10000e+01, 1.10000e+01, 5.00000e+00, 4.00000e+00,\n",
       "        3.00000e+00, 2.00000e+00, 2.00000e+00, 1.00000e+00, 0.00000e+00,\n",
       "        0.00000e+00, 2.00000e+00, 1.00000e+00, 1.00000e+00, 0.00000e+00,\n",
       "        0.00000e+00, 0.00000e+00, 0.00000e+00, 0.00000e+00, 0.00000e+00,\n",
       "        0.00000e+00, 0.00000e+00, 0.00000e+00, 0.00000e+00, 1.00000e+00]),\n",
       " array([1.04166667e-01, 3.53791667e+01, 7.06541667e+01, 1.05929167e+02,\n",
       "        1.41204167e+02, 1.76479167e+02, 2.11754167e+02, 2.47029167e+02,\n",
       "        2.82304167e+02, 3.17579167e+02, 3.52854167e+02, 3.88129167e+02,\n",
       "        4.23404167e+02, 4.58679167e+02, 4.93954167e+02, 5.29229167e+02,\n",
       "        5.64504167e+02, 5.99779167e+02, 6.35054167e+02, 6.70329167e+02,\n",
       "        7.05604167e+02, 7.40879167e+02, 7.76154167e+02, 8.11429167e+02,\n",
       "        8.46704167e+02, 8.81979167e+02, 9.17254167e+02, 9.52529167e+02,\n",
       "        9.87804167e+02, 1.02307917e+03, 1.05835417e+03, 1.09362917e+03,\n",
       "        1.12890417e+03, 1.16417917e+03, 1.19945417e+03, 1.23472917e+03,\n",
       "        1.27000417e+03, 1.30527917e+03, 1.34055417e+03, 1.37582917e+03,\n",
       "        1.41110417e+03, 1.44637917e+03, 1.48165417e+03, 1.51692917e+03,\n",
       "        1.55220417e+03, 1.58747917e+03, 1.62275417e+03, 1.65802917e+03,\n",
       "        1.69330417e+03, 1.72857917e+03, 1.76385417e+03]),\n",
       " <BarContainer object of 50 artists>)"
      ]
     },
     "execution_count": 130,
     "metadata": {},
     "output_type": "execute_result"
    },
    {
     "data": {
      "image/png": "[encoded data removed]",
      "text/plain": [
       "<Figure size 432x288 with 1 Axes>"
      ]
     },
     "metadata": {
      "needs_background": "light"
     },
     "output_type": "display_data"
    }
   ],
   "source": [
    "import matplotlib.pyplot as plt\n",
    "\n",
    "plt.xlim(0, 250)\n",
    "plt.hist(duration_list, rwidth=0.9, bins=50)"
   ]
  },
  {
   "cell_type": "code",
   "execution_count": 128,
   "metadata": {},
   "outputs": [
    {
     "data": {
      "text/plain": [
       "(array([4.15234e+05, 3.00710e+04, 7.64400e+03, 2.89900e+03, 1.26500e+03,\n",
       "        8.09000e+02, 5.38000e+02, 3.52000e+02, 2.38000e+02, 2.09000e+02,\n",
       "        1.28000e+02, 8.70000e+01, 6.30000e+01, 4.90000e+01, 3.30000e+01,\n",
       "        2.10000e+01, 1.90000e+01, 1.60000e+01, 1.10000e+01, 1.00000e+01,\n",
       "        1.00000e+01, 4.00000e+00, 8.00000e+00, 6.00000e+00, 7.00000e+00,\n",
       "        2.00000e+00, 5.00000e+00, 2.00000e+00, 2.00000e+00, 1.00000e+00,\n",
       "        3.00000e+00, 0.00000e+00, 0.00000e+00, 1.00000e+00, 2.00000e+00,\n",
       "        0.00000e+00, 0.00000e+00, 0.00000e+00, 0.00000e+00, 0.00000e+00,\n",
       "        0.00000e+00, 0.00000e+00, 0.00000e+00, 0.00000e+00, 0.00000e+00,\n",
       "        1.00000e+00, 0.00000e+00, 0.00000e+00, 0.00000e+00, 1.00000e+00]),\n",
       " array([ 0.        ,  0.21495833,  0.42991667,  0.644875  ,  0.85983333,\n",
       "         1.07479167,  1.28975   ,  1.50470833,  1.71966667,  1.934625  ,\n",
       "         2.14958333,  2.36454167,  2.5795    ,  2.79445833,  3.00941667,\n",
       "         3.224375  ,  3.43933333,  3.65429167,  3.86925   ,  4.08420833,\n",
       "         4.29916667,  4.514125  ,  4.72908333,  4.94404167,  5.159     ,\n",
       "         5.37395833,  5.58891667,  5.803875  ,  6.01883333,  6.23379167,\n",
       "         6.44875   ,  6.66370833,  6.87866667,  7.093625  ,  7.30858333,\n",
       "         7.52354167,  7.7385    ,  7.95345833,  8.16841667,  8.383375  ,\n",
       "         8.59833333,  8.81329167,  9.02825   ,  9.24320833,  9.45816667,\n",
       "         9.673125  ,  9.88808333, 10.10304167, 10.318     , 10.53295833,\n",
       "        10.74791667]),\n",
       " <BarContainer object of 50 artists>)"
      ]
     },
     "execution_count": 128,
     "metadata": {},
     "output_type": "execute_result"
    },
    {
     "data": {
      "image/png": "[encoded data removed]",
      "text/plain": [
       "<Figure size 432x288 with 1 Axes>"
      ]
     },
     "metadata": {
      "needs_background": "light"
     },
     "output_type": "display_data"
    }
   ],
   "source": [
    "import matplotlib.pyplot as plt\n",
    "\n",
    "plt.xlim(0, 3)\n",
    "plt.hist(onset_list, rwidth=0.9, bins=50)"
   ]
  },
  {
   "cell_type": "code",
   "execution_count": null,
   "metadata": {},
   "outputs": [],
   "source": []
  }
 ],
 "metadata": {
  "interpreter": {
   "hash": "120664a179ffbc0ac4be6088d6b5760ea13eb398d8b7b4e4a04801582ae38fc7"
  },
  "kernelspec": {
   "display_name": "Python 3.8.12 64-bit ('base': conda)",
   "language": "python",
   "name": "python3"
  },
  "language_info": {
   "codemirror_mode": {
    "name": "ipython",
    "version": 3
   },
   "file_extension": ".py",
   "mimetype": "text/x-python",
   "name": "python",
   "nbconvert_exporter": "python",
   "pygments_lexer": "ipython3",
   "version": "3.8.12"
  },
  "orig_nbformat": 4
 },
 "nbformat": 4,
 "nbformat_minor": 2
}
