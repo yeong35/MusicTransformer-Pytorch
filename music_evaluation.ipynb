{
 "cells": [
  {
   "cell_type": "markdown",
   "id": "2351b913-7504-4c7d-87b7-b67a26fc2051",
   "metadata": {},
   "source": [
    "## Music Evaluation"
   ]
  },
  {
   "cell_type": "code",
   "execution_count": 1,
   "id": "f7731940-c833-4e24-922a-b7c0ecb45503",
   "metadata": {
    "tags": []
   },
   "outputs": [],
   "source": [
    "import json\n",
    "from argparse import ArgumentParser\n",
    "import midi\n",
    "import glob\n",
    "import copy\n",
    "import os\n",
    "import numpy as np\n",
    "import pretty_midi\n",
    "from pprint import pprint\n",
    "import pickle\n",
    "from mgeval.mgeval import core, utils\n",
    "from sklearn.model_selection import LeaveOneOut"
   ]
  },
  {
   "cell_type": "code",
   "execution_count": 2,
   "id": "bd855fb8-2ce5-47bd-ba32-f106357a32cf",
   "metadata": {},
   "outputs": [],
   "source": [
    "# midi file이 들어있는 dict path를 넣어주세요!\n",
    "\n",
    "set1dir = '/home/bang/PycharmProjects/MusicTransformer-Pytorch/statistic_file/MT_classic_pop_static/classic'\n",
    "set2dir = '/home/bang/PycharmProjects/MusicTransformer-Pytorch/statistic_file/MT_classic_pop_static/pop'"
   ]
  },
  {
   "cell_type": "code",
   "execution_count": 3,
   "id": "4743b372-9bb8-4c97-af46-397970348b04",
   "metadata": {},
   "outputs": [],
   "source": [
    "set1 = glob.glob(os.path.join(set1dir, '*'))\n",
    "set2 = glob.glob(os.path.join(set2dir, '*'))"
   ]
  },
  {
   "cell_type": "markdown",
   "id": "f3094f52-908a-4f71-bd31-1552010ecbc4",
   "metadata": {},
   "source": [
    "## Number of samples\n",
    "\n",
    "- set1: classic midi files\n",
    "- set2: pop midi files"
   ]
  },
  {
   "cell_type": "code",
   "execution_count": 4,
   "id": "9cc7a121-28df-4a91-8315-38ea53478df7",
   "metadata": {},
   "outputs": [
    {
     "name": "stdout",
     "output_type": "stream",
     "text": [
      "set1 size : 1281 , set2 size : 829\n"
     ]
    }
   ],
   "source": [
    "print(\"set1 size :\", len(set1), \", set2 size :\", len(set2))"
   ]
  },
  {
   "cell_type": "code",
   "execution_count": 5,
   "id": "be972b7a-9790-4f43-8b72-d9694cfc0c10",
   "metadata": {},
   "outputs": [],
   "source": [
    "num_samples = min(len(set2), len(set1))"
   ]
  },
  {
   "cell_type": "markdown",
   "id": "91f130a0-8ca2-48b8-a89c-116fa58f8ed8",
   "metadata": {},
   "source": [
    "## metrics\n",
    "\n",
    "- total used pitch\n",
    "- pitch_range\n",
    "- avg pitch shift\n",
    "- avg IOI\n",
    "- total_pitch class histogram"
   ]
  },
  {
   "cell_type": "code",
   "execution_count": 6,
   "id": "3c8d35d2-a85c-4935-9f3e-b863e74b3d07",
   "metadata": {},
   "outputs": [],
   "source": [
    "evalset = { \n",
    "            'total_used_pitch': np.zeros((num_samples, 1))\n",
    "          , 'pitch_range': np.zeros((num_samples, 1))\n",
    "          , 'avg_pitch_shift': np.zeros((num_samples, 1))\n",
    "          , 'avg_IOI': np.zeros((num_samples, 1))\n",
    "          #, 'total_used_note': np.zeros((num_samples, 1))\n",
    "          # , 'bar_used_pitch': np.zeros((num_samples, args.num_bar, 1))\n",
    "          # , 'bar_used_note': np.zeros((num_samples, args.num_bar, 1))\n",
    "          , 'total_pitch_class_histogram': np.zeros((num_samples, 12))\n",
    "          # , 'bar_pitch_class_histogram': np.zeros((num_samples, args.num_bar, 12))\n",
    "          #, 'note_length_hist': np.zeros((num_samples, 12))\n",
    "          #, 'pitch_class_transition_matrix': np.zeros((num_samples, 12, 12))\n",
    "          #, 'note_length_transition_matrix': np.zeros((num_samples, 12, 12))\n",
    "          }"
   ]
  },
  {
   "cell_type": "code",
   "execution_count": 7,
   "id": "353376e5-b037-49a1-9492-e389b37445d9",
   "metadata": {},
   "outputs": [],
   "source": [
    "metrics_list = list(evalset.keys())\n",
    "\n",
    "single_arg_metrics = (\n",
    "    [ 'total_used_pitch'\n",
    "    , 'avg_IOI'\n",
    "    , 'total_pitch_class_histogram'\n",
    "    , 'pitch_range'\n",
    "    ])\n",
    "\n",
    "set1_eval = copy.deepcopy(evalset)\n",
    "set2_eval = copy.deepcopy(evalset)\n",
    "\n",
    "sets = [ (set1, set1_eval), (set2, set2_eval) ]"
   ]
  },
  {
   "cell_type": "markdown",
   "id": "48c31eda-9b51-4712-b9f4-5f74350d3009",
   "metadata": {},
   "source": [
    "## 평가 진행"
   ]
  },
  {
   "cell_type": "code",
   "execution_count": null,
   "id": "934ef01a-fb92-42e9-bfe0-e5141d84401c",
   "metadata": {},
   "outputs": [],
   "source": [
    "# Extract Fetures\n",
    "for _set, _set_eval in sets:\n",
    "    for i in range(0, num_samples):\n",
    "        feature = core.extract_feature(_set[i])\n",
    "        for metric in metrics_list:\n",
    "            evaluator = getattr(core.metrics(), metric)\n",
    "            if metric in single_arg_metrics:\n",
    "                tmp = evaluator(feature)\n",
    "            # elif metric in bar_metrics:\n",
    "            #     # print(metric)\n",
    "            #     tmp = evaluator(feature, 0, args.num_bar)\n",
    "            # print(tmp.shape)\n",
    "            else:\n",
    "                tmp = evaluator(feature, 1)\n",
    "            _set_eval[metric][i] = tmp"
   ]
  },
  {
   "cell_type": "markdown",
   "id": "c05dec6f-a30e-4924-9c88-ce9125d5155f",
   "metadata": {},
   "source": [
    "## 평가 결과"
   ]
  },
  {
   "cell_type": "code",
   "execution_count": null,
   "id": "e0a0f570-50d6-432b-aad2-25363731f36d",
   "metadata": {},
   "outputs": [],
   "source": [
    "set1_TUP = (set1_eval['total_used_pitch']).sum(-1).mean()\n",
    "set2_TUP = (set2_eval['total_used_pitch']).sum(-1).mean()\n",
    "\n",
    "print(\"set1 total used pitch :\", set1_TUP)\n",
    "print(\"set2 total used pitch :\", set2_TUP)"
   ]
  },
  {
   "cell_type": "code",
   "execution_count": null,
   "id": "c081d387-0ad4-4bd9-b672-9f99249498b9",
   "metadata": {},
   "outputs": [],
   "source": [
    "set1_TCU = (set1_eval['total_pitch_class_histogram']!=0).sum(-1).mean()\n",
    "set2_TCU = (set2_eval['total_pitch_class_histogram']!=0).sum(-1).mean()\n",
    "\n",
    "print(\"set1_TCU :\", set1_TCU)\n",
    "print(\"set2_TCU :\", set2_TCU)"
   ]
  },
  {
   "cell_type": "code",
   "execution_count": null,
   "id": "10fdd7fd-1fcd-4285-8ea6-1bb7c5821ee8",
   "metadata": {},
   "outputs": [],
   "source": [
    "set1_PR = (set1_eval['pitch_range']).mean()\n",
    "set2_PR = (set2_eval['pitch_range']).mean()\n",
    "\n",
    "print(\"set1_PR :\", set1_PR)\n",
    "print(\"set2_PR :\", set2_PR)"
   ]
  },
  {
   "cell_type": "code",
   "execution_count": null,
   "id": "0d485dc6-7101-443b-a817-9d676d6a3842",
   "metadata": {},
   "outputs": [],
   "source": [
    "set1_APS = set1_eval['avg_pitch_shift'].sum(-1).mean()\n",
    "set2_APS = set2_eval['avg_pitch_shift'].sum(-1).mean()\n",
    "\n",
    "print(\"set1_APS :\", set1_APS)\n",
    "print(\"set2_APS :\", set2_APS)"
   ]
  },
  {
   "cell_type": "code",
   "execution_count": null,
   "id": "cdf5dfee-9a53-484a-904f-cd0f07d784db",
   "metadata": {},
   "outputs": [],
   "source": [
    "set1_IOI = set1_eval['avg_IOI'].sum(-1).mean()\n",
    "set2_IOI = set2_eval['avg_IOI'].sum(-1).mean()\n",
    "\n",
    "print(\"set1_IOI :\", set1_IOI)\n",
    "print(\"set2_IOI :\", set2_IOI)"
   ]
  }
 ],
 "metadata": {
  "kernelspec": {
   "display_name": "Python 3 (ipykernel)",
   "language": "python",
   "name": "python3"
  },
  "language_info": {
   "codemirror_mode": {
    "name": "ipython",
    "version": 3
   },
   "file_extension": ".py",
   "mimetype": "text/x-python",
   "name": "python",
   "nbconvert_exporter": "python",
   "pygments_lexer": "ipython3",
   "version": "3.8.8"
  }
 },
 "nbformat": 4,
 "nbformat_minor": 5
}
