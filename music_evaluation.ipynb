{
 "cells": [
  {
   "cell_type": "markdown",
   "id": "2351b913-7504-4c7d-87b7-b67a26fc2051",
   "metadata": {},
   "source": [
    "## Music Evaluation"
   ]
  },
  {
   "cell_type": "code",
   "execution_count": 1,
   "id": "f7731940-c833-4e24-922a-b7c0ecb45503",
   "metadata": {
    "tags": []
   },
   "outputs": [],
   "source": [
    "import json\n",
    "from argparse import ArgumentParser\n",
    "import midi\n",
    "import glob\n",
    "import copy\n",
    "import os\n",
    "import numpy as np\n",
    "import pretty_midi\n",
    "from pprint import pprint\n",
    "import pickle\n",
    "from mgeval.mgeval import core, utils\n",
    "from sklearn.model_selection import LeaveOneOut"
   ]
  },
  {
   "cell_type": "code",
   "execution_count": 2,
   "id": "bd855fb8-2ce5-47bd-ba32-f106357a32cf",
   "metadata": {},
   "outputs": [],
   "source": [
    "# midi file이 들어있는 dict path를 넣어주세요!\n",
    "\n",
    "set1dir = '/home/bang/다운로드/maestro-v2.0.0-midi/maestro_midi'\n",
    "set2dir = '/home/bang/PycharmProjects/POP909-Dataset/pop909_midi'\n",
    "\n",
    "# set1dir = '/home/bang/PycharmProjects/MusicTransformer-Pytorch/MT_pop_1102_static/classic'\n",
    "# set2dir = '/home/bang/PycharmProjects/MusicTransformer-Pytorch/MT_pop_1102_static/pop'"
   ]
  },
  {
   "cell_type": "code",
   "execution_count": 3,
   "id": "4743b372-9bb8-4c97-af46-397970348b04",
   "metadata": {},
   "outputs": [],
   "source": [
    "set1 = glob.glob(os.path.join(set1dir, '*'))\n",
    "set2 = glob.glob(os.path.join(set2dir, '*'))"
   ]
  },
  {
   "cell_type": "markdown",
   "id": "f3094f52-908a-4f71-bd31-1552010ecbc4",
   "metadata": {},
   "source": [
    "## Number of samples\n",
    "\n",
    "- set1: classic midi files\n",
    "- set2: pop midi files"
   ]
  },
  {
   "cell_type": "code",
   "execution_count": 4,
   "id": "9cc7a121-28df-4a91-8315-38ea53478df7",
   "metadata": {},
   "outputs": [
    {
     "name": "stdout",
     "output_type": "stream",
     "text": [
      "set1 size : 1281 , set2 size : 909\n"
     ]
    }
   ],
   "source": [
    "print(\"set1 size :\", len(set1), \", set2 size :\", len(set2))"
   ]
  },
  {
   "cell_type": "code",
   "execution_count": 5,
   "id": "be972b7a-9790-4f43-8b72-d9694cfc0c10",
   "metadata": {},
   "outputs": [],
   "source": [
    "num_samples = min(len(set2), len(set1))"
   ]
  },
  {
   "cell_type": "markdown",
   "id": "91f130a0-8ca2-48b8-a89c-116fa58f8ed8",
   "metadata": {},
   "source": [
    "## metrics\n",
    "\n",
    "- total used pitch\n",
    "- pitch_range\n",
    "- avg pitch shift\n",
    "- avg IOI\n",
    "- total_pitch class histogram"
   ]
  },
  {
   "cell_type": "code",
   "execution_count": 6,
   "id": "3c8d35d2-a85c-4935-9f3e-b863e74b3d07",
   "metadata": {},
   "outputs": [],
   "source": [
    "evalset = { \n",
    "            'total_used_pitch': np.zeros((num_samples, 1))\n",
    "          , 'pitch_range': np.zeros((num_samples, 1))\n",
    "          , 'avg_pitch_shift': np.zeros((num_samples, 1))\n",
    "          , 'avg_IOI': np.zeros((num_samples, 1))\n",
    "          #, 'total_used_note': np.zeros((num_samples, 1))\n",
    "          # , 'bar_used_pitch': np.zeros((num_samples, args.num_bar, 1))\n",
    "          # , 'bar_used_note': np.zeros((num_samples, args.num_bar, 1))\n",
    "          , 'total_pitch_class_histogram': np.zeros((num_samples, 12))\n",
    "          # , 'bar_pitch_class_histogram': np.zeros((num_samples, args.num_bar, 12))\n",
    "          #, 'note_length_hist': np.zeros((num_samples, 12))\n",
    "          #, 'pitch_class_transition_matrix': np.zeros((num_samples, 12, 12))\n",
    "          #, 'note_length_transition_matrix': np.zeros((num_samples, 12, 12))\n",
    "          }"
   ]
  },
  {
   "cell_type": "code",
   "execution_count": 7,
   "id": "353376e5-b037-49a1-9492-e389b37445d9",
   "metadata": {},
   "outputs": [],
   "source": [
    "metrics_list = list(evalset.keys())\n",
    "\n",
    "single_arg_metrics = (\n",
    "    [ 'total_used_pitch'\n",
    "    , 'avg_IOI'\n",
    "    , 'total_pitch_class_histogram'\n",
    "    , 'pitch_range'\n",
    "    ])\n",
    "\n",
    "set1_eval = copy.deepcopy(evalset)\n",
    "set2_eval = copy.deepcopy(evalset)\n",
    "\n",
    "sets = [ (set1, set1_eval), (set2, set2_eval) ]"
   ]
  },
  {
   "cell_type": "code",
   "execution_count": 8,
   "id": "76a3b745-031b-4e1d-ad41-8ffd1848e9b2",
   "metadata": {
    "tags": []
   },
   "outputs": [],
   "source": [
    "def total_pitch_class_histogram_All_instruments(feature):\n",
    "    \"\"\"\n",
    "    total_pitch_class_histogram (Pitch class histogram):\n",
    "    The pitch class histogram is an octave-independent representation of the pitch content with a dimensionality of 12 for a chromatic scale.\n",
    "    In our case, it represents to the octave-independent chromatic quantization of the frequency continuum.\n",
    "\n",
    "    Returns:\n",
    "    'histogram': histrogram of 12 pitch, with weighted duration shape 12\n",
    "    \"\"\"\n",
    "    \n",
    "    instrument_num = len(feature['pretty_midi'].instruments)\n",
    "    piano_roll_list = []\n",
    "    for i in range(instrument_num):\n",
    "        piano_roll = feature['pretty_midi'].instruments[i].get_piano_roll(fs=100)\n",
    "        piano_roll_list.append(piano_roll)\n",
    "    \n",
    "    histogram = np.zeros(12)\n",
    "    for i in range(0, 128):\n",
    "        pitch_class = i % 12\n",
    "        for piano_roll_temp in piano_roll_list:\n",
    "            histogram[pitch_class] += np.sum(piano_roll_temp, axis=1)[i]\n",
    "    histogram = histogram / sum(histogram)\n",
    "    return histogram"
   ]
  },
  {
   "cell_type": "code",
   "execution_count": 9,
   "id": "7e5cf2a4-6ef5-4c06-99d2-700a699c1e53",
   "metadata": {
    "tags": []
   },
   "outputs": [],
   "source": [
    "def pitch_range_All_instruments(feature):\n",
    "    \"\"\"\n",
    "    pitch_range (Pitch range):\n",
    "    The pitch range is calculated by subtraction of the highest and lowest used pitch in semitones.\n",
    "\n",
    "    Returns:\n",
    "    'p_range': a scalar for each sample.\n",
    "    \"\"\"\n",
    "    \n",
    "    instrument_num = len(feature['pretty_midi'].instruments)\n",
    "    cnt_pitch_temp = []\n",
    "    for i in range(instrument_num):\n",
    "        piano_roll = feature['pretty_midi'].instruments[i].get_piano_roll(fs=100)\n",
    "        cnt_pitch_temp.append(np.sum(piano_roll, axis=1))\n",
    "\n",
    "    pitch_index = np.where(np.sum(cnt_pitch_temp, axis=0) > 0)\n",
    "\n",
    "    p_range = np.max(pitch_index) - np.min(pitch_index)\n",
    "    \n",
    "\n",
    "    return p_range"
   ]
  },
  {
   "cell_type": "code",
   "execution_count": 13,
   "id": "0ec3277e-1a13-49b7-bf7f-92262948eab5",
   "metadata": {},
   "outputs": [],
   "source": [
    "def total_used_note_All_instruments(feature):\n",
    "    \"\"\"\n",
    "    total_used_note (Note count): The number of used notes.\n",
    "    As opposed to the pitch count, the note count does not contain pitch information but is a rhythm-related feature.\n",
    "\n",
    "    Args:\n",
    "    'track_num' : specify the track number in the midi pattern, default is 1 (the second track).\n",
    "\n",
    "    Returns:\n",
    "    'used_notes': a scalar for each sample.\n",
    "    \"\"\"\n",
    "    \n",
    "    pattern = feature['midi_pattern']\n",
    "    \n",
    "    temp = []\n",
    "    for i in range(len(pattern)):\n",
    "        temp.extend(pattern[i])\n",
    "    \n",
    "    pattern = temp\n",
    "    \n",
    "    used_notes = 0\n",
    "    for i in range(0, len(pattern)):\n",
    "        if type(pattern[i]) == midi.events.NoteOnEvent and pattern[i].data[1] != 0:\n",
    "            used_notes += 1\n",
    "    return used_notes"
   ]
  },
  {
   "cell_type": "code",
   "execution_count": 14,
   "id": "1e5ba8a4-821c-41bc-a368-ca525ee7c460",
   "metadata": {
    "tags": []
   },
   "outputs": [],
   "source": [
    "def avg_pitch_shift_All_instruments(feature):\n",
    "    \"\"\"\n",
    "    avg_pitch_shift (Average pitch interval):\n",
    "    Average value of the interval between two consecutive pitches in semitones.\n",
    "\n",
    "    Args:\n",
    "    'track_num' : specify the track number in the midi pattern, default is 1 (the second track).\n",
    "\n",
    "    Returns:\n",
    "    'pitch_shift': a scalar for each sample.\n",
    "    \"\"\"\n",
    "    pattern = feature['midi_pattern']\n",
    "    pattern.make_ticks_abs()\n",
    "    resolution = pattern.resolution\n",
    "    total_used_note_value = total_used_note(feature)\n",
    "    d_note = np.zeros((max(total_used_note_value - 1, 0)))\n",
    "    # if total_used_note_value == 0:\n",
    "      # return 0\n",
    "    # d_note = np.zeros((total_used_note_value - 1))\n",
    "    \n",
    "    # 여러 트랙을 하나로 합쳐줌\n",
    "    pattern = feature['midi_pattern']\n",
    "    temp = []\n",
    "    for i in range(len(pattern)):\n",
    "        temp.extend(pattern[i])\n",
    "    pattern = temp\n",
    "    \n",
    "    current_note = 0\n",
    "    counter = 0\n",
    "    for i in range(0, len(pattern)):\n",
    "        if type(pattern[i]) == midi.events.NoteOnEvent and pattern[i].data[1] != 0:\n",
    "            if counter != 0:\n",
    "                d_note[counter - 1] = current_note - pattern[i].data[0]\n",
    "                current_note = pattern[i].data[0]\n",
    "                counter += 1\n",
    "            else:\n",
    "                current_note = pattern[i].data[0]\n",
    "                counter += 1\n",
    "    pitch_shift = np.mean(abs(d_note))\n",
    "    return pitch_shift"
   ]
  },
  {
   "cell_type": "markdown",
   "id": "48c31eda-9b51-4712-b9f4-5f74350d3009",
   "metadata": {},
   "source": [
    "## 평가 진행"
   ]
  },
  {
   "cell_type": "code",
   "execution_count": 15,
   "id": "934ef01a-fb92-42e9-bfe0-e5141d84401c",
   "metadata": {
    "tags": []
   },
   "outputs": [],
   "source": [
    "# Extract Fetures\n",
    "for _set, _set_eval in sets:\n",
    "    for i in range(0, num_samples):\n",
    "        feature = core.extract_feature(_set[i])\n",
    "        for metric in metrics_list:\n",
    "            if metric == 'pitch_range':\n",
    "                evaluator = pitch_range_All_instruments\n",
    "            elif metric == 'total_pitch_class_histogram':\n",
    "                evaluator = total_pitch_class_histogram_All_instruments\n",
    "            elif metric == 'avg_pitch_shift':\n",
    "                evaluator = avg_pitch_shift_All_instruments\n",
    "            else:\n",
    "                continue\n",
    "                evaluator = getattr(core.metrics(), metric)\n",
    "                \n",
    "            if metric in single_arg_metrics or metric == 'avg_pitch_shift':\n",
    "                tmp = evaluator(feature)\n",
    "            # elif metric in bar_metrics:\n",
    "            #     # print(metric)\n",
    "            #     tmp = evaluator(feature, 0, args.num_bar)\n",
    "            # print(tmp.shape)\n",
    "            else:\n",
    "                tmp = evaluator(feature, 1)\n",
    "            _set_eval[metric][i] = tmp"
   ]
  },
  {
   "cell_type": "markdown",
   "id": "c05dec6f-a30e-4924-9c88-ce9125d5155f",
   "metadata": {},
   "source": [
    "## 평가 결과"
   ]
  },
  {
   "cell_type": "code",
   "execution_count": 16,
   "id": "e0a0f570-50d6-432b-aad2-25363731f36d",
   "metadata": {},
   "outputs": [
    {
     "name": "stdout",
     "output_type": "stream",
     "text": [
      "set1 total used pitch : 0.0\n",
      "set2 total used pitch : 0.0\n"
     ]
    }
   ],
   "source": [
    "set1_TUP = (set1_eval['total_used_pitch']).sum(-1).mean()\n",
    "set2_TUP = (set2_eval['total_used_pitch']).sum(-1).mean()\n",
    "\n",
    "print(\"set1 total used pitch :\", set1_TUP)\n",
    "print(\"set2 total used pitch :\", set2_TUP)"
   ]
  },
  {
   "cell_type": "code",
   "execution_count": 17,
   "id": "c081d387-0ad4-4bd9-b672-9f99249498b9",
   "metadata": {},
   "outputs": [
    {
     "name": "stdout",
     "output_type": "stream",
     "text": [
      "set1_TCU : 11.990099009900991\n",
      "set2_TCU : 9.4004400440044\n"
     ]
    }
   ],
   "source": [
    "set1_TCU = (set1_eval['total_pitch_class_histogram']!=0).sum(-1).mean()\n",
    "set2_TCU = (set2_eval['total_pitch_class_histogram']!=0).sum(-1).mean()\n",
    "\n",
    "print(\"set1_TCU :\", set1_TCU)\n",
    "print(\"set2_TCU :\", set2_TCU)"
   ]
  },
  {
   "cell_type": "code",
   "execution_count": 18,
   "id": "10fdd7fd-1fcd-4285-8ea6-1bb7c5821ee8",
   "metadata": {},
   "outputs": [
    {
     "name": "stdout",
     "output_type": "stream",
     "text": [
      "set1_PR : 68.18921892189219\n",
      "set2_PR : 53.34653465346535\n"
     ]
    }
   ],
   "source": [
    "set1_PR = (set1_eval['pitch_range']).mean()\n",
    "set2_PR = (set2_eval['pitch_range']).mean()\n",
    "\n",
    "print(\"set1_PR :\", set1_PR)\n",
    "print(\"set2_PR :\", set2_PR)"
   ]
  },
  {
   "cell_type": "code",
   "execution_count": 19,
   "id": "0d485dc6-7101-443b-a817-9d676d6a3842",
   "metadata": {},
   "outputs": [
    {
     "name": "stdout",
     "output_type": "stream",
     "text": [
      "set1_APS : 11.58998431665204\n",
      "set2_APS : 6.638152930075139\n"
     ]
    }
   ],
   "source": [
    "set1_APS = set1_eval['avg_pitch_shift'].sum(-1).mean()\n",
    "set2_APS = set2_eval['avg_pitch_shift'].sum(-1).mean()\n",
    "\n",
    "print(\"set1_APS :\", set1_APS)\n",
    "print(\"set2_APS :\", set2_APS)"
   ]
  },
  {
   "cell_type": "code",
   "execution_count": 20,
   "id": "09ed48d5-8693-495b-ab33-2cd844de45a2",
   "metadata": {},
   "outputs": [
    {
     "name": "stdout",
     "output_type": "stream",
     "text": [
      "set1_APS 2 : 11.58998431665204\n",
      "set2_APS 2 : 6.638152930075139\n"
     ]
    }
   ],
   "source": [
    "set1_APS = set1_eval['avg_pitch_shift'].sum(-1).mean()\n",
    "set2_APS = set2_eval['avg_pitch_shift'].sum(-1).mean()\n",
    "\n",
    "print(\"set1_APS 2 :\", set1_APS)\n",
    "print(\"set2_APS 2 :\", set2_APS)"
   ]
  },
  {
   "cell_type": "code",
   "execution_count": 21,
   "id": "cdf5dfee-9a53-484a-904f-cd0f07d784db",
   "metadata": {},
   "outputs": [
    {
     "name": "stdout",
     "output_type": "stream",
     "text": [
      "set1_IOI : 0.0\n",
      "set2_IOI : 0.0\n"
     ]
    }
   ],
   "source": [
    "set1_IOI = set1_eval['avg_IOI'].sum(-1).mean()\n",
    "set2_IOI = set2_eval['avg_IOI'].sum(-1).mean()\n",
    "\n",
    "print(\"set1_IOI :\", set1_IOI)\n",
    "print(\"set2_IOI :\", set2_IOI)"
   ]
  },
  {
   "cell_type": "code",
   "execution_count": null,
   "id": "37e84e77-1523-4e51-9431-ae6422efc4b2",
   "metadata": {},
   "outputs": [],
   "source": []
  }
 ],
 "metadata": {
  "kernelspec": {
   "display_name": "Python 3 (ipykernel)",
   "language": "python",
   "name": "python3"
  },
  "language_info": {
   "codemirror_mode": {
    "name": "ipython",
    "version": 3
   },
   "file_extension": ".py",
   "mimetype": "text/x-python",
   "name": "python",
   "nbconvert_exporter": "python",
   "pygments_lexer": "ipython3",
   "version": "3.8.8"
  }
 },
 "nbformat": 4,
 "nbformat_minor": 5
}
